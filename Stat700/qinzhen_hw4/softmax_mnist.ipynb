{
 "cells": [
  {
   "cell_type": "markdown",
   "metadata": {},
   "source": [
    "### Training Softmax Regression on MNIST\n",
    "Based on the tutorial available here: https://www.tensorflow.org/get_started/mnist/beginners"
   ]
  },
  {
   "cell_type": "code",
   "execution_count": 4,
   "metadata": {},
   "outputs": [
    {
     "name": "stdout",
     "output_type": "stream",
     "text": [
      "Extracting data_dir/train-images-idx3-ubyte.gz\n",
      "Extracting data_dir/train-labels-idx1-ubyte.gz\n",
      "Extracting data_dir/t10k-images-idx3-ubyte.gz\n",
      "Extracting data_dir/t10k-labels-idx1-ubyte.gz\n"
     ]
    }
   ],
   "source": [
    "# Import TensorFlow and load the data.\n",
    "import tensorflow as tf\n",
    "# TF comes packaged with scripts for downloading the MNIST data.\n",
    "from tensorflow.examples.tutorials.mnist import input_data\n",
    "data_dir = \"data_dir\" #TF needs a directory into which to save the downloaded data.\n",
    "mnist = input_data.read_data_sets(data_dir, one_hot=True) # Tell TF that the data has one-hot encoding."
   ]
  },
  {
   "cell_type": "code",
   "execution_count": 5,
   "metadata": {
    "collapsed": true
   },
   "outputs": [],
   "source": [
    "# Build the computational graph for our model.\n",
    "\n",
    "# The softmax model\n",
    "x = tf.placeholder(tf.float32, [None, 784])\n",
    "W = tf.Variable(tf.zeros([784, 10]))\n",
    "b = tf.Variable(tf.zeros([10]))\n",
    "y = tf.nn.softmax(tf.matmul(x, W) + b)\n",
    "\n",
    "# True labels and the loss function\n",
    "ytrue = tf.placeholder(tf.float32, [None, 10])\n",
    "cross_entropy = tf.reduce_mean(tf.nn.softmax_cross_entropy_with_logits(labels=ytrue, logits=y))\n",
    "# Optimize via gradient descent\n",
    "train_step = tf.train.GradientDescentOptimizer(0.5).minimize(cross_entropy)"
   ]
  },
  {
   "cell_type": "code",
   "execution_count": 6,
   "metadata": {
    "collapsed": true
   },
   "outputs": [],
   "source": [
    "# Start up a session.\n",
    "sess = tf.InteractiveSession()\n",
    "tf.global_variables_initializer().run()\n",
    "\n",
    "# We'll take 5000 gradient steps. Feel free to experiment with this number.\n",
    "nsteps = 5000\n",
    "for _ in range(nsteps):\n",
    "    batch_xs, batch_ys = mnist.train.next_batch(100)\n",
    "    sess.run(train_step, feed_dict={x: batch_xs, ytrue: batch_ys})"
   ]
  },
  {
   "cell_type": "code",
   "execution_count": 7,
   "metadata": {},
   "outputs": [
    {
     "name": "stdout",
     "output_type": "stream",
     "text": [
      "0.9224\n"
     ]
    }
   ],
   "source": [
    "# Assess performance on the test set, which the model hasn't seen before.\n",
    "correct_prediction = tf.equal(tf.argmax(y, 1), tf.argmax(ytrue, 1)) # Test your understanding: why argmax?\n",
    "accuracy = tf.reduce_mean(tf.cast(correct_prediction, tf.float32)) # Have to case bool to floats to take mean.\n",
    "# The last two lines added more to the computational graph.\n",
    "#Run that part of the graph with test data as input.\n",
    "print(sess.run(accuracy, feed_dict={x: mnist.test.images, ytrue: mnist.test.labels}))"
   ]
  },
  {
   "cell_type": "code",
   "execution_count": null,
   "metadata": {
    "collapsed": true
   },
   "outputs": [],
   "source": [
    "# Accuracy should be about .92; if not, try increasing nsteps."
   ]
  }
 ],
 "metadata": {
  "kernelspec": {
   "display_name": "Python [default]",
   "language": "python",
   "name": "python2"
  },
  "language_info": {
   "codemirror_mode": {
    "name": "ipython",
    "version": 2
   },
   "file_extension": ".py",
   "mimetype": "text/x-python",
   "name": "python",
   "nbconvert_exporter": "python",
   "pygments_lexer": "ipython2",
   "version": "2.7.13"
  }
 },
 "nbformat": 4,
 "nbformat_minor": 2
}
